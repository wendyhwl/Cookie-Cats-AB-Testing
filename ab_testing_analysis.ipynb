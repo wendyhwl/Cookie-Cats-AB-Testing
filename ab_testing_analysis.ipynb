{
 "cells": [
  {
   "cell_type": "markdown",
   "metadata": {},
   "source": [
    "## Cookie Cat: A/B Testing & Hypothesis Testing\n",
    "\n",
    "### Background\n",
    "[Cookie Cats](https://www.facebook.com/cookiecatsgame) is a hugely popular mobile puzzle game developed by [Tactile Entertainment](https://tactilegames.com). It's a classic \"connect three\"-style puzzle game where the player must connect tiles of the same color to clear the board and win the level.\n",
    "\n",
    "As players progress through the game they will encounter gates that force them to wait some time before they can progress or make an in-app purchase. In this project, we will analyze the result of an A/B test where the first gate in Cookie Cats was moved from level 30 to level 40. In particular, we will analyze the impact on player retention. \n",
    "\n",
    "### Business problem\n",
    "Decide whether to move the gate from level 30 to 40 by looking at the retention rates for both groups.\n",
    "\n",
    "### Steps\n",
    "1. Importing and understanding data\n",
    "2. Detecting problems (missing values, outliers)\n",
    "3. AB testing\n",
    "    - Check for assumption: test for normality, equal variance\n",
    "    - Check if groups are different: test for similarity (equal variance test)\n",
    "4. Summary of stats\n",
    "5. Conclusion"
   ]
  },
  {
   "cell_type": "markdown",
   "metadata": {},
   "source": [
    "## Step 1: Importing Data\n",
    "\n",
    "The data is from 90,189 players that installed the game while the AB-test was running. The variables are:\n",
    "\n",
    "- userid - a unique number that identifies each player.\n",
    "- version - whether the player was put in the control group (gate_30 - a gate at level 30) or the test group (gate_40 - a gate at level 40).\n",
    "- sum_gamerounds - the number of game rounds played by the player during the first week after installation\n",
    "- retention_1 - did the player come back and play 1 day after installing?\n",
    "- retention_7 - did the player come back and play 7 days after installing?\n",
    "\n",
    "\n",
    "When a player installed the game, he or she was randomly assigned to either gate_30 or gate_40."
   ]
  },
  {
   "cell_type": "code",
   "execution_count": 150,
   "metadata": {},
   "outputs": [],
   "source": [
    "# importing necessary libraries and packages\n",
    "import pandas as pd\n",
    "import numpy as np\n",
    "import matplotlib.pyplot as plt\n",
    "from scipy import stats"
   ]
  },
  {
   "cell_type": "code",
   "execution_count": 151,
   "metadata": {},
   "outputs": [
    {
     "data": {
      "text/html": [
       "<div>\n",
       "<style scoped>\n",
       "    .dataframe tbody tr th:only-of-type {\n",
       "        vertical-align: middle;\n",
       "    }\n",
       "\n",
       "    .dataframe tbody tr th {\n",
       "        vertical-align: top;\n",
       "    }\n",
       "\n",
       "    .dataframe thead th {\n",
       "        text-align: right;\n",
       "    }\n",
       "</style>\n",
       "<table border=\"1\" class=\"dataframe\">\n",
       "  <thead>\n",
       "    <tr style=\"text-align: right;\">\n",
       "      <th></th>\n",
       "      <th>userid</th>\n",
       "      <th>version</th>\n",
       "      <th>sum_gamerounds</th>\n",
       "      <th>retention_1</th>\n",
       "      <th>retention_7</th>\n",
       "    </tr>\n",
       "  </thead>\n",
       "  <tbody>\n",
       "    <tr>\n",
       "      <th>0</th>\n",
       "      <td>116</td>\n",
       "      <td>gate_30</td>\n",
       "      <td>3</td>\n",
       "      <td>False</td>\n",
       "      <td>False</td>\n",
       "    </tr>\n",
       "    <tr>\n",
       "      <th>1</th>\n",
       "      <td>337</td>\n",
       "      <td>gate_30</td>\n",
       "      <td>38</td>\n",
       "      <td>True</td>\n",
       "      <td>False</td>\n",
       "    </tr>\n",
       "    <tr>\n",
       "      <th>2</th>\n",
       "      <td>377</td>\n",
       "      <td>gate_40</td>\n",
       "      <td>165</td>\n",
       "      <td>True</td>\n",
       "      <td>False</td>\n",
       "    </tr>\n",
       "    <tr>\n",
       "      <th>3</th>\n",
       "      <td>483</td>\n",
       "      <td>gate_40</td>\n",
       "      <td>1</td>\n",
       "      <td>False</td>\n",
       "      <td>False</td>\n",
       "    </tr>\n",
       "    <tr>\n",
       "      <th>4</th>\n",
       "      <td>488</td>\n",
       "      <td>gate_40</td>\n",
       "      <td>179</td>\n",
       "      <td>True</td>\n",
       "      <td>True</td>\n",
       "    </tr>\n",
       "  </tbody>\n",
       "</table>\n",
       "</div>"
      ],
      "text/plain": [
       "   userid  version  sum_gamerounds  retention_1  retention_7\n",
       "0     116  gate_30               3        False        False\n",
       "1     337  gate_30              38         True        False\n",
       "2     377  gate_40             165         True        False\n",
       "3     483  gate_40               1        False        False\n",
       "4     488  gate_40             179         True         True"
      ]
     },
     "execution_count": 151,
     "metadata": {},
     "output_type": "execute_result"
    }
   ],
   "source": [
    "# import data\n",
    "df = pd.read_csv('cookie_cats.csv')\n",
    "\n",
    "# a brief look at the data\n",
    "df.head()"
   ]
  },
  {
   "cell_type": "markdown",
   "metadata": {},
   "source": [
    "## Step 2: Detecting Anomalies\n",
    "\n",
    "Let's look deeper into the data before analyzing the AB-testing result. By looking at the min, max and mean values, we can see that there is a value that appeared to be much larger than the rest. We can further confirm that by looking at the box plot distribution."
   ]
  },
  {
   "cell_type": "code",
   "execution_count": 153,
   "metadata": {},
   "outputs": [
    {
     "data": {
      "text/html": [
       "<div>\n",
       "<style scoped>\n",
       "    .dataframe tbody tr th:only-of-type {\n",
       "        vertical-align: middle;\n",
       "    }\n",
       "\n",
       "    .dataframe tbody tr th {\n",
       "        vertical-align: top;\n",
       "    }\n",
       "\n",
       "    .dataframe thead th {\n",
       "        text-align: right;\n",
       "    }\n",
       "</style>\n",
       "<table border=\"1\" class=\"dataframe\">\n",
       "  <thead>\n",
       "    <tr style=\"text-align: right;\">\n",
       "      <th></th>\n",
       "      <th>userid</th>\n",
       "      <th>sum_gamerounds</th>\n",
       "    </tr>\n",
       "  </thead>\n",
       "  <tbody>\n",
       "    <tr>\n",
       "      <th>count</th>\n",
       "      <td>9.018900e+04</td>\n",
       "      <td>90189.000000</td>\n",
       "    </tr>\n",
       "    <tr>\n",
       "      <th>mean</th>\n",
       "      <td>4.998412e+06</td>\n",
       "      <td>51.872457</td>\n",
       "    </tr>\n",
       "    <tr>\n",
       "      <th>std</th>\n",
       "      <td>2.883286e+06</td>\n",
       "      <td>195.050858</td>\n",
       "    </tr>\n",
       "    <tr>\n",
       "      <th>min</th>\n",
       "      <td>1.160000e+02</td>\n",
       "      <td>0.000000</td>\n",
       "    </tr>\n",
       "    <tr>\n",
       "      <th>25%</th>\n",
       "      <td>2.512230e+06</td>\n",
       "      <td>5.000000</td>\n",
       "    </tr>\n",
       "    <tr>\n",
       "      <th>50%</th>\n",
       "      <td>4.995815e+06</td>\n",
       "      <td>16.000000</td>\n",
       "    </tr>\n",
       "    <tr>\n",
       "      <th>75%</th>\n",
       "      <td>7.496452e+06</td>\n",
       "      <td>51.000000</td>\n",
       "    </tr>\n",
       "    <tr>\n",
       "      <th>max</th>\n",
       "      <td>9.999861e+06</td>\n",
       "      <td>49854.000000</td>\n",
       "    </tr>\n",
       "  </tbody>\n",
       "</table>\n",
       "</div>"
      ],
      "text/plain": [
       "             userid  sum_gamerounds\n",
       "count  9.018900e+04    90189.000000\n",
       "mean   4.998412e+06       51.872457\n",
       "std    2.883286e+06      195.050858\n",
       "min    1.160000e+02        0.000000\n",
       "25%    2.512230e+06        5.000000\n",
       "50%    4.995815e+06       16.000000\n",
       "75%    7.496452e+06       51.000000\n",
       "max    9.999861e+06    49854.000000"
      ]
     },
     "execution_count": 153,
     "metadata": {},
     "output_type": "execute_result"
    }
   ],
   "source": [
    "df.describe()"
   ]
  },
  {
   "cell_type": "code",
   "execution_count": 154,
   "metadata": {},
   "outputs": [
    {
     "data": {
      "image/png": "[encoded data removed]",
      "text/plain": [
       "<Figure size 432x288 with 1 Axes>"
      ]
     },
     "metadata": {},
     "output_type": "display_data"
    }
   ],
   "source": [
    "# mean is 51 but max is 49854 --> outlier(s) exist\n",
    "initial_plot = sns.boxplot(x=df.version, y=df.sum_gamerounds)\n",
    "plt.title(\"Initial Distribution of both gamerounds\")\n",
    "plt.show(initial_plot)\n",
    "\n",
    "# --> there's outliers in gate 30 version (an extremely large value)"
   ]
  },
  {
   "cell_type": "markdown",
   "metadata": {},
   "source": [
    "As shown in the box plot, there is one gamerounds value at roughly 50000, whereas the rest of them are below 5000 (with a mean of 51.8). That extremely large value appears to be an outlier. Let's remove that and look at the statistics again."
   ]
  },
  {
   "cell_type": "code",
   "execution_count": 68,
   "metadata": {},
   "outputs": [],
   "source": [
    "# let's remove the outlier (remove the maximum value)\n",
    "df = df[df.sum_gamerounds < df.sum_gamerounds.max()] "
   ]
  },
  {
   "cell_type": "code",
   "execution_count": 69,
   "metadata": {},
   "outputs": [
    {
     "data": {
      "text/html": [
       "<div>\n",
       "<style scoped>\n",
       "    .dataframe tbody tr th:only-of-type {\n",
       "        vertical-align: middle;\n",
       "    }\n",
       "\n",
       "    .dataframe tbody tr th {\n",
       "        vertical-align: top;\n",
       "    }\n",
       "\n",
       "    .dataframe thead th {\n",
       "        text-align: right;\n",
       "    }\n",
       "</style>\n",
       "<table border=\"1\" class=\"dataframe\">\n",
       "  <thead>\n",
       "    <tr style=\"text-align: right;\">\n",
       "      <th></th>\n",
       "      <th>userid</th>\n",
       "      <th>sum_gamerounds</th>\n",
       "    </tr>\n",
       "  </thead>\n",
       "  <tbody>\n",
       "    <tr>\n",
       "      <th>count</th>\n",
       "      <td>9.018800e+04</td>\n",
       "      <td>90188.000000</td>\n",
       "    </tr>\n",
       "    <tr>\n",
       "      <th>mean</th>\n",
       "      <td>4.998397e+06</td>\n",
       "      <td>51.320253</td>\n",
       "    </tr>\n",
       "    <tr>\n",
       "      <th>std</th>\n",
       "      <td>2.883298e+06</td>\n",
       "      <td>102.682719</td>\n",
       "    </tr>\n",
       "    <tr>\n",
       "      <th>min</th>\n",
       "      <td>1.160000e+02</td>\n",
       "      <td>0.000000</td>\n",
       "    </tr>\n",
       "    <tr>\n",
       "      <th>25%</th>\n",
       "      <td>2.512211e+06</td>\n",
       "      <td>5.000000</td>\n",
       "    </tr>\n",
       "    <tr>\n",
       "      <th>50%</th>\n",
       "      <td>4.995804e+06</td>\n",
       "      <td>16.000000</td>\n",
       "    </tr>\n",
       "    <tr>\n",
       "      <th>75%</th>\n",
       "      <td>7.496461e+06</td>\n",
       "      <td>51.000000</td>\n",
       "    </tr>\n",
       "    <tr>\n",
       "      <th>max</th>\n",
       "      <td>9.999861e+06</td>\n",
       "      <td>2961.000000</td>\n",
       "    </tr>\n",
       "  </tbody>\n",
       "</table>\n",
       "</div>"
      ],
      "text/plain": [
       "             userid  sum_gamerounds\n",
       "count  9.018800e+04    90188.000000\n",
       "mean   4.998397e+06       51.320253\n",
       "std    2.883298e+06      102.682719\n",
       "min    1.160000e+02        0.000000\n",
       "25%    2.512211e+06        5.000000\n",
       "50%    4.995804e+06       16.000000\n",
       "75%    7.496461e+06       51.000000\n",
       "max    9.999861e+06     2961.000000"
      ]
     },
     "execution_count": 69,
     "metadata": {},
     "output_type": "execute_result"
    }
   ],
   "source": [
    "# take a look at the data after removing max value\n",
    "df.describe()"
   ]
  },
  {
   "cell_type": "code",
   "execution_count": 71,
   "metadata": {},
   "outputs": [
    {
     "data": {
      "image/png": "[encoded data removed]",
      "text/plain": [
       "<Figure size 432x288 with 1 Axes>"
      ]
     },
     "metadata": {},
     "output_type": "display_data"
    }
   ],
   "source": [
    "# and the box plot\n",
    "cleaned = sns.boxplot(x=df.version, y=df.sum_gamerounds)\n",
    "plt.title(\"Distribution of Gate 30 and 40 \\n (After removing outlier)\")\n",
    "plt.show(cleaned)"
   ]
  },
  {
   "cell_type": "markdown",
   "metadata": {},
   "source": [
    "## Step 3: A/B Test\n",
    "\n",
    "In this section, we will look at the A/B testing result. Specifically, we will be doing the following:\n",
    "1. Check the A/B test data to see if the two groups have roughly the same number of players\n",
    "2. Check if there is a statiscally significant difference between the two groups"
   ]
  },
  {
   "cell_type": "code",
   "execution_count": 155,
   "metadata": {},
   "outputs": [
    {
     "data": {
      "text/plain": [
       "gate_40    45489\n",
       "gate_30    44700\n",
       "Name: version, dtype: int64"
      ]
     },
     "execution_count": 155,
     "metadata": {},
     "output_type": "execute_result"
    }
   ],
   "source": [
    "# check group distribution\n",
    "df.version.value_counts()"
   ]
  },
  {
   "cell_type": "markdown",
   "metadata": {},
   "source": [
    "The number of players in both groups are roughly the same. We can move onto checking similarity between the two groups. \n",
    "\n",
    "We will start off by testing if the gamerounds data are normally distributed. If both datasets pass normality test, we will run a pararmetric test, if not then we will run a non-parametric test."
   ]
  },
  {
   "cell_type": "code",
   "execution_count": 126,
   "metadata": {},
   "outputs": [
    {
     "name": "stdout",
     "output_type": "stream",
     "text": [
      "At least one group did not pass normality test\n"
     ]
    }
   ],
   "source": [
    "# splitting data into A/B groups\n",
    "group_a = df[df['version']==\"gate_30\"]['sum_gamerounds'].tolist()\n",
    "group_b = df[df['version']==\"gate_40\"]['sum_gamerounds'].tolist()\n",
    "\n",
    "# test for normality\n",
    "pval_a = stats.normaltest(group_a).pvalue\n",
    "pval_b = stats.normaltest(group_b).pvalue\n",
    "\n",
    "if pval_a > 0.05 and pval_b > 0.05:\n",
    "    print(\"Both groups passed normality test!\")\n",
    "else:\n",
    "    print(\"At least one group did not pass normality test\")"
   ]
  },
  {
   "cell_type": "markdown",
   "metadata": {},
   "source": [
    "Here, since the data is not normally distributed, we will apply a non-parametric test: Mann Whitney U-test to see if the two groups have a statistically significant difference."
   ]
  },
  {
   "cell_type": "code",
   "execution_count": 129,
   "metadata": {},
   "outputs": [
    {
     "name": "stdout",
     "output_type": "stream",
     "text": [
      "Two groups are not similar\n"
     ]
    }
   ],
   "source": [
    "# checking difference between groups\n",
    "\n",
    "# need to use non-parametric test \n",
    "# --> apply non-parametric test: Mann-Whitney U-test\n",
    "\n",
    "mann_result = stats.mannwhitneyu(group_a, group_b).pvalue \n",
    "\n",
    "if (mann_result < 0.05): # reject H0\n",
    "    print(\"Two groups are not similar\")\n",
    "else: # H0\n",
    "    print(\"Two samples are similar\")"
   ]
  },
  {
   "cell_type": "markdown",
   "metadata": {},
   "source": [
    "After applying the Mann Whitney U-test, we get a p-value less than 0.05, which indicates that the A/B groups are not similar!"
   ]
  },
  {
   "cell_type": "markdown",
   "metadata": {},
   "source": [
    "## Step 4: Summary and Stats\n",
    "\n",
    "In this step, we will look at the 1-day and 7-day retention rates for both groups, and use this to derive our conclusion."
   ]
  },
  {
   "cell_type": "code",
   "execution_count": 130,
   "metadata": {},
   "outputs": [
    {
     "data": {
      "image/png": "[encoded data removed]",
      "text/plain": [
       "<Figure size 432x288 with 1 Axes>"
      ]
     },
     "metadata": {},
     "output_type": "display_data"
    }
   ],
   "source": [
    "# number of players by gamerounds\n",
    "players_by_round = df.groupby('sum_gamerounds')['userid'].count()[:100]\n",
    "players_by_round_plot = players_by_round.plot(x='sum_gamerounds', y='userid')\n",
    "plt.title(\"Number of users in the initial 100 rounds\")\n",
    "plt.show(players_by_round_plot)"
   ]
  },
  {
   "cell_type": "code",
   "execution_count": 131,
   "metadata": {},
   "outputs": [
    {
     "name": "stdout",
     "output_type": "stream",
     "text": [
      "Number of unique players:  90188\n",
      "Did not play the game:  3994\n"
     ]
    }
   ],
   "source": [
    "# number of players\n",
    "print(\"Number of unique players: \", df.userid.nunique())\n",
    "\n",
    "# number of players that downloaded the game but did not play at all\n",
    "print(\"Did not play the game: \", players_by_round[0])"
   ]
  },
  {
   "cell_type": "code",
   "execution_count": 144,
   "metadata": {},
   "outputs": [
    {
     "data": {
      "text/plain": [
       "version\n",
       "gate_30    51.342111\n",
       "gate_40    51.298776\n",
       "Name: sum_gamerounds, dtype: float64"
      ]
     },
     "execution_count": 144,
     "metadata": {},
     "output_type": "execute_result"
    }
   ],
   "source": [
    "# looking at the retentions for both groups\n",
    "\n",
    "# first split the data by gates\n",
    "gate_30 = df[df['version']==\"gate_30\"]\n",
    "gate_40 = df[df['version']==\"gate_40\"]\n",
    "\n",
    "# difference between total game rounds\n",
    "\n",
    "df.groupby('version').sum_gamerounds.mean()"
   ]
  },
  {
   "cell_type": "code",
   "execution_count": 157,
   "metadata": {},
   "outputs": [
    {
     "data": {
      "text/html": [
       "<div>\n",
       "<style scoped>\n",
       "    .dataframe tbody tr th:only-of-type {\n",
       "        vertical-align: middle;\n",
       "    }\n",
       "\n",
       "    .dataframe tbody tr th {\n",
       "        vertical-align: top;\n",
       "    }\n",
       "\n",
       "    .dataframe thead th {\n",
       "        text-align: right;\n",
       "    }\n",
       "</style>\n",
       "<table border=\"1\" class=\"dataframe\">\n",
       "  <thead>\n",
       "    <tr style=\"text-align: right;\">\n",
       "      <th></th>\n",
       "      <th>Retention_1day</th>\n",
       "      <th>Retention_7day</th>\n",
       "      <th>Ratio_1day</th>\n",
       "      <th>Ratio_7day</th>\n",
       "    </tr>\n",
       "  </thead>\n",
       "  <tbody>\n",
       "    <tr>\n",
       "      <th>False</th>\n",
       "      <td>50036</td>\n",
       "      <td>73408</td>\n",
       "      <td>0.55479</td>\n",
       "      <td>0.813935</td>\n",
       "    </tr>\n",
       "    <tr>\n",
       "      <th>True</th>\n",
       "      <td>40153</td>\n",
       "      <td>16781</td>\n",
       "      <td>0.44521</td>\n",
       "      <td>0.186065</td>\n",
       "    </tr>\n",
       "  </tbody>\n",
       "</table>\n",
       "</div>"
      ],
      "text/plain": [
       "       Retention_1day  Retention_7day  Ratio_1day  Ratio_7day\n",
       "False           50036           73408     0.55479    0.813935\n",
       "True            40153           16781     0.44521    0.186065"
      ]
     },
     "execution_count": 157,
     "metadata": {},
     "output_type": "execute_result"
    }
   ],
   "source": [
    "# difference between retentions\n",
    "\n",
    "# total retention\n",
    "ret_total = pd.DataFrame({\n",
    "                \"Retention_1day\": df[\"retention_1\"].value_counts(),\n",
    "                \"Retention_7day\": df[\"retention_7\"].value_counts(),\n",
    "                \"Ratio_1day\": df[\"retention_1\"].value_counts() / len(df),\n",
    "                \"Ratio_7day\": df[\"retention_7\"].value_counts() / len(df)\n",
    "            })\n",
    "\n",
    "ret_total"
   ]
  },
  {
   "cell_type": "code",
   "execution_count": 158,
   "metadata": {},
   "outputs": [
    {
     "data": {
      "text/html": [
       "<div>\n",
       "<style scoped>\n",
       "    .dataframe tbody tr th:only-of-type {\n",
       "        vertical-align: middle;\n",
       "    }\n",
       "\n",
       "    .dataframe tbody tr th {\n",
       "        vertical-align: top;\n",
       "    }\n",
       "\n",
       "    .dataframe thead th {\n",
       "        text-align: right;\n",
       "    }\n",
       "</style>\n",
       "<table border=\"1\" class=\"dataframe\">\n",
       "  <thead>\n",
       "    <tr style=\"text-align: right;\">\n",
       "      <th></th>\n",
       "      <th>Retention_1day</th>\n",
       "      <th>Retention_7day</th>\n",
       "      <th>Ratio_1day</th>\n",
       "      <th>Ratio_7day</th>\n",
       "    </tr>\n",
       "  </thead>\n",
       "  <tbody>\n",
       "    <tr>\n",
       "      <th>False</th>\n",
       "      <td>24665</td>\n",
       "      <td>36198</td>\n",
       "      <td>0.551802</td>\n",
       "      <td>0.809817</td>\n",
       "    </tr>\n",
       "    <tr>\n",
       "      <th>True</th>\n",
       "      <td>20034</td>\n",
       "      <td>8501</td>\n",
       "      <td>0.448198</td>\n",
       "      <td>0.190183</td>\n",
       "    </tr>\n",
       "  </tbody>\n",
       "</table>\n",
       "</div>"
      ],
      "text/plain": [
       "       Retention_1day  Retention_7day  Ratio_1day  Ratio_7day\n",
       "False           24665           36198    0.551802    0.809817\n",
       "True            20034            8501    0.448198    0.190183"
      ]
     },
     "execution_count": 158,
     "metadata": {},
     "output_type": "execute_result"
    }
   ],
   "source": [
    "# retention for gate_30\n",
    "\n",
    "ret_30 = pd.DataFrame({\n",
    "            \"Retention_1day\": gate_30[\"retention_1\"].value_counts(),\n",
    "            \"Retention_7day\": gate_30[\"retention_7\"].value_counts(),\n",
    "            \"Ratio_1day\": gate_30[\"retention_1\"].value_counts() / len(gate_30),\n",
    "            \"Ratio_7day\": gate_30[\"retention_7\"].value_counts() / len(gate_30)\n",
    "            })\n",
    "\n",
    "ret_30"
   ]
  },
  {
   "cell_type": "markdown",
   "metadata": {},
   "source": [
    "From the above table we can see that the retention rate for gate_30:\n",
    "- 1-day: 44.8%\n",
    "- 7-day: 19.0%"
   ]
  },
  {
   "cell_type": "code",
   "execution_count": 159,
   "metadata": {},
   "outputs": [
    {
     "data": {
      "text/html": [
       "<div>\n",
       "<style scoped>\n",
       "    .dataframe tbody tr th:only-of-type {\n",
       "        vertical-align: middle;\n",
       "    }\n",
       "\n",
       "    .dataframe tbody tr th {\n",
       "        vertical-align: top;\n",
       "    }\n",
       "\n",
       "    .dataframe thead th {\n",
       "        text-align: right;\n",
       "    }\n",
       "</style>\n",
       "<table border=\"1\" class=\"dataframe\">\n",
       "  <thead>\n",
       "    <tr style=\"text-align: right;\">\n",
       "      <th></th>\n",
       "      <th>Retention_1day</th>\n",
       "      <th>Retention_7day</th>\n",
       "      <th>Ratio_1day</th>\n",
       "      <th>Ratio_7day</th>\n",
       "    </tr>\n",
       "  </thead>\n",
       "  <tbody>\n",
       "    <tr>\n",
       "      <th>False</th>\n",
       "      <td>25370</td>\n",
       "      <td>37210</td>\n",
       "      <td>0.557717</td>\n",
       "      <td>0.818</td>\n",
       "    </tr>\n",
       "    <tr>\n",
       "      <th>True</th>\n",
       "      <td>20119</td>\n",
       "      <td>8279</td>\n",
       "      <td>0.442283</td>\n",
       "      <td>0.182</td>\n",
       "    </tr>\n",
       "  </tbody>\n",
       "</table>\n",
       "</div>"
      ],
      "text/plain": [
       "       Retention_1day  Retention_7day  Ratio_1day  Ratio_7day\n",
       "False           25370           37210    0.557717       0.818\n",
       "True            20119            8279    0.442283       0.182"
      ]
     },
     "execution_count": 159,
     "metadata": {},
     "output_type": "execute_result"
    }
   ],
   "source": [
    "# retention for gate_40\n",
    "\n",
    "ret_40 = pd.DataFrame({\n",
    "            \"Retention_1day\": gate_40[\"retention_1\"].value_counts(),\n",
    "            \"Retention_7day\": gate_40[\"retention_7\"].value_counts(),\n",
    "            \"Ratio_1day\": gate_40[\"retention_1\"].value_counts() / len(gate_40),\n",
    "            \"Ratio_7day\": gate_40[\"retention_7\"].value_counts() / len(gate_40)\n",
    "            })\n",
    "\n",
    "ret_40"
   ]
  },
  {
   "cell_type": "markdown",
   "metadata": {},
   "source": [
    "The retention rate for gate_40:\n",
    "- 1-day: 44.2%\n",
    "- 7-day: 18.2%"
   ]
  },
  {
   "cell_type": "markdown",
   "metadata": {},
   "source": [
    "### Detailed Summary\n",
    "\n",
    "By looking at the data and the above short analysis, we can conclude the following statistical summaries:\n",
    "\n",
    "**General**\n",
    "- Users play a total of 52 game rounds on average\n",
    "- 3994 (or roughly 4.5% of) users never played the game after installing\n",
    "- 55.5% of users quit the game after 1 day of installing (44.5% retention)\n",
    "- 81% of users quit the game after 7 days of installing (19% retention)\n",
    "\n",
    "**1-Day Retention Comparison**\n",
    "- 44.8% of gate_30 users continue to play the game after 1-day\n",
    "- 44.2% of gate_40 users continue to play the game after 1-day\n",
    "\n",
    "**7-Day Retention Comparison**\n",
    "- 19.0% of gate_30 users continue to play the game after 1-day\n",
    "- 18.2% of gate_40 users continue to play the game after 1-day"
   ]
  },
  {
   "cell_type": "markdown",
   "metadata": {},
   "source": [
    "## Step 5: Conclusion\n",
    "\n",
    "Let's go back to the business problem! **Should we or should we not move the gate from level 30 to 40? Does moving gate to level 40 has an impact on player retention?**\n",
    "\n",
    "In short, we should **NOT** move the gate from level 30 to level 40. \n",
    "\n",
    "Both 1-day and 7-day retentions are higher when the gate is set at level 30. Although the differences are small (roughly 1% difference), the Mann-Whitney U-test tells us that the groups are not similar. Therefore there is a statistical difference in the total game rounds played between moving gates from level 30 to level 40. \n",
    "\n",
    "**Why is it better to keep the gate at 30?**\n",
    "\n",
    "Naturally, we would think that placing the gate earlier may be why users quit the game since they are forced to either wait for a certain period or make an in-app purchase before proceeding to the next level. However, this can be explained by a psychological theory called Hedonic Adaptation.\n",
    "\n",
    "Hedonic Adaptation is a human tendency to lose happiness to a life event or an activity quickly. The idea can also be understood as to how human has unlimited desires — a higher salary would increase our level of happiness for a while. However, we would soon be expecting more, bringing us back to the initial level of happiness. \n",
    "\n",
    "By keeping the gate at level 30, we keep the users in the happiness loop and prevent them from quitting the game just because they got bored of it. Thus, users' level of happiness is prolonged when they are forced to take a break. Of course, if we were to find the optimal solution to this, there are other factors that we need to consider: such as the wait time, price of in-app purchases, ... etc.\n",
    "\n"
   ]
  }
 ],
 "metadata": {
  "kernelspec": {
   "display_name": "Python 3",
   "language": "python",
   "name": "python3"
  },
  "language_info": {
   "codemirror_mode": {
    "name": "ipython",
    "version": 3
   },
   "file_extension": ".py",
   "mimetype": "text/x-python",
   "name": "python",
   "nbconvert_exporter": "python",
   "pygments_lexer": "ipython3",
   "version": "3.7.3"
  }
 },
 "nbformat": 4,
 "nbformat_minor": 2
}
